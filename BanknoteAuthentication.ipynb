{
  "nbformat": 4,
  "nbformat_minor": 0,
  "metadata": {
    "colab": {
      "name": "Untitled5.ipynb",
      "provenance": []
    },
    "kernelspec": {
      "name": "python3",
      "display_name": "Python 3"
    },
    "language_info": {
      "name": "python"
    }
  },
  "cells": [
    {
      "cell_type": "markdown",
      "metadata": {
        "id": "-g5POZ-DiAgW"
      },
      "source": [
        "# Load Banknote Data"
      ]
    },
    {
      "cell_type": "code",
      "metadata": {
        "id": "rEU0zYZS120o"
      },
      "source": [
        "import matplotlib.pyplot as plt\n",
        "import numpy as np\n",
        "import pandas as pd\n",
        "from sklearn.model_selection import train_test_split\n",
        "from sklearn.model_selection import cross_val_score\n",
        "from sklearn.model_selection import KFold\n",
        "from sklearn.pipeline import Pipeline\n",
        "from sklearn.preprocessing import MinMaxScaler\n",
        "from tensorflow.python.keras.models import Sequential\n",
        "from tensorflow.python.keras.layers import Dense\n",
        "from tensorflow.python.keras.wrappers.scikit_learn import KerasRegressor\n",
        "import tensorflow as tf"
      ],
      "execution_count": 2,
      "outputs": []
    },
    {
      "cell_type": "code",
      "metadata": {
        "colab": {
          "base_uri": "https://localhost:8080/"
        },
        "id": "YXm66eR48eAR",
        "outputId": "4a0d479c-7ee3-4c9c-afb1-e9ee02fe0689"
      },
      "source": [
        "from urllib.request import urlopen\n",
        "url = 'http://archive.ics.uci.edu/ml/machine-learning-databases/00267/data_banknote_authentication.txt'\n",
        "raw_data = urlopen(url)\n",
        "dataset = np.loadtxt(raw_data, delimiter=\",\")\n",
        "print(dataset.shape)"
      ],
      "execution_count": 3,
      "outputs": [
        {
          "output_type": "stream",
          "text": [
            "(1372, 5)\n"
          ],
          "name": "stdout"
        }
      ]
    },
    {
      "cell_type": "code",
      "metadata": {
        "id": "e1jYVFNX8eY7"
      },
      "source": [
        "df = pd.DataFrame(dataset, columns = ['variance of Wavelet Transformed image','skewness of Wavelet Transformed image','curtosis of Wavelet Transformed image','entropy of image','class'])"
      ],
      "execution_count": 4,
      "outputs": []
    },
    {
      "cell_type": "code",
      "metadata": {
        "colab": {
          "base_uri": "https://localhost:8080/",
          "height": 204
        },
        "id": "29ZIvjWf8erB",
        "outputId": "405ad443-68ee-4bd3-ecab-ad250db1f59d"
      },
      "source": [
        "df.head()"
      ],
      "execution_count": 5,
      "outputs": [
        {
          "output_type": "execute_result",
          "data": {
            "text/html": [
              "<div>\n",
              "<style scoped>\n",
              "    .dataframe tbody tr th:only-of-type {\n",
              "        vertical-align: middle;\n",
              "    }\n",
              "\n",
              "    .dataframe tbody tr th {\n",
              "        vertical-align: top;\n",
              "    }\n",
              "\n",
              "    .dataframe thead th {\n",
              "        text-align: right;\n",
              "    }\n",
              "</style>\n",
              "<table border=\"1\" class=\"dataframe\">\n",
              "  <thead>\n",
              "    <tr style=\"text-align: right;\">\n",
              "      <th></th>\n",
              "      <th>variance of Wavelet Transformed image</th>\n",
              "      <th>skewness of Wavelet Transformed image</th>\n",
              "      <th>curtosis of Wavelet Transformed image</th>\n",
              "      <th>entropy of image</th>\n",
              "      <th>class</th>\n",
              "    </tr>\n",
              "  </thead>\n",
              "  <tbody>\n",
              "    <tr>\n",
              "      <th>0</th>\n",
              "      <td>3.62160</td>\n",
              "      <td>8.6661</td>\n",
              "      <td>-2.8073</td>\n",
              "      <td>-0.44699</td>\n",
              "      <td>0.0</td>\n",
              "    </tr>\n",
              "    <tr>\n",
              "      <th>1</th>\n",
              "      <td>4.54590</td>\n",
              "      <td>8.1674</td>\n",
              "      <td>-2.4586</td>\n",
              "      <td>-1.46210</td>\n",
              "      <td>0.0</td>\n",
              "    </tr>\n",
              "    <tr>\n",
              "      <th>2</th>\n",
              "      <td>3.86600</td>\n",
              "      <td>-2.6383</td>\n",
              "      <td>1.9242</td>\n",
              "      <td>0.10645</td>\n",
              "      <td>0.0</td>\n",
              "    </tr>\n",
              "    <tr>\n",
              "      <th>3</th>\n",
              "      <td>3.45660</td>\n",
              "      <td>9.5228</td>\n",
              "      <td>-4.0112</td>\n",
              "      <td>-3.59440</td>\n",
              "      <td>0.0</td>\n",
              "    </tr>\n",
              "    <tr>\n",
              "      <th>4</th>\n",
              "      <td>0.32924</td>\n",
              "      <td>-4.4552</td>\n",
              "      <td>4.5718</td>\n",
              "      <td>-0.98880</td>\n",
              "      <td>0.0</td>\n",
              "    </tr>\n",
              "  </tbody>\n",
              "</table>\n",
              "</div>"
            ],
            "text/plain": [
              "   variance of Wavelet Transformed image  ...  class\n",
              "0                                3.62160  ...    0.0\n",
              "1                                4.54590  ...    0.0\n",
              "2                                3.86600  ...    0.0\n",
              "3                                3.45660  ...    0.0\n",
              "4                                0.32924  ...    0.0\n",
              "\n",
              "[5 rows x 5 columns]"
            ]
          },
          "metadata": {
            "tags": []
          },
          "execution_count": 5
        }
      ]
    },
    {
      "cell_type": "code",
      "metadata": {
        "id": "PeKUr6qqEZWJ"
      },
      "source": [
        "x = df.iloc[:,0:4].values\n",
        "y = df.iloc[:,-1].values"
      ],
      "execution_count": 6,
      "outputs": []
    },
    {
      "cell_type": "code",
      "metadata": {
        "colab": {
          "base_uri": "https://localhost:8080/"
        },
        "id": "hcjFs3QYEZbU",
        "outputId": "eac2972c-7e32-4920-8c6e-5bc66a6d1928"
      },
      "source": [
        "x"
      ],
      "execution_count": 20,
      "outputs": [
        {
          "output_type": "execute_result",
          "data": {
            "text/plain": [
              "array([[  3.6216 ,   8.6661 ,  -2.8073 ,  -0.44699],\n",
              "       [  4.5459 ,   8.1674 ,  -2.4586 ,  -1.4621 ],\n",
              "       [  3.866  ,  -2.6383 ,   1.9242 ,   0.10645],\n",
              "       ...,\n",
              "       [ -3.7503 , -13.4586 ,  17.5932 ,  -2.7771 ],\n",
              "       [ -3.5637 ,  -8.3827 ,  12.393  ,  -1.2823 ],\n",
              "       [ -2.5419 ,  -0.65804,   2.6842 ,   1.1952 ]])"
            ]
          },
          "metadata": {
            "tags": []
          },
          "execution_count": 20
        }
      ]
    },
    {
      "cell_type": "code",
      "metadata": {
        "colab": {
          "base_uri": "https://localhost:8080/"
        },
        "id": "J4YoEkagEZe2",
        "outputId": "e4e6870f-9b33-471f-acd1-e6dd3cda579f"
      },
      "source": [
        "y"
      ],
      "execution_count": 21,
      "outputs": [
        {
          "output_type": "execute_result",
          "data": {
            "text/plain": [
              "array([0., 0., 0., ..., 1., 1., 1.])"
            ]
          },
          "metadata": {
            "tags": []
          },
          "execution_count": 21
        }
      ]
    },
    {
      "cell_type": "code",
      "metadata": {
        "id": "fW93zOIrEZi9"
      },
      "source": [
        "y=np.reshape(y, (-1,1))"
      ],
      "execution_count": 7,
      "outputs": []
    },
    {
      "cell_type": "markdown",
      "metadata": {
        "id": "hK74fs8ciSw4"
      },
      "source": [
        "# Normalize Data"
      ]
    },
    {
      "cell_type": "code",
      "metadata": {
        "id": "0_DoTC6PEZnI"
      },
      "source": [
        "from sklearn.model_selection import train_test_split\n",
        "x_train,x_test,y_train,y_test=train_test_split(x,y, test_size=0.2, random_state=0)"
      ],
      "execution_count": 8,
      "outputs": []
    },
    {
      "cell_type": "code",
      "metadata": {
        "id": "mL-3DfbJEZqm"
      },
      "source": [
        "from sklearn.preprocessing import StandardScaler\n",
        "sc = StandardScaler()\n",
        "x_train = sc.fit_transform(x_train)\n",
        "x_test = sc.transform(x_test)"
      ],
      "execution_count": 9,
      "outputs": []
    },
    {
      "cell_type": "code",
      "metadata": {
        "id": "oRWajlqi1wlK"
      },
      "source": [
        "a=1\n",
        "b=0"
      ],
      "execution_count": 63,
      "outputs": []
    },
    {
      "cell_type": "code",
      "metadata": {
        "id": "doUziVbGLVPd"
      },
      "source": [
        "def my_func(x):\n",
        "  return(a*x+b)"
      ],
      "execution_count": 10,
      "outputs": []
    },
    {
      "cell_type": "code",
      "metadata": {
        "id": "GhDqrH4QHp1Z"
      },
      "source": [
        "\n",
        "ann = tf.keras.models.Sequential()\n",
        " "
      ],
      "execution_count": 17,
      "outputs": []
    },
    {
      "cell_type": "markdown",
      "metadata": {
        "id": "mRjfeImeiiaP"
      },
      "source": [
        "# Fit ANN"
      ]
    },
    {
      "cell_type": "code",
      "metadata": {
        "id": "NYdsQ0DvHqDv"
      },
      "source": [
        "#First hidden layer\n",
        "ann.add(tf.keras.layers.Dense(units=7, activation='relu'))"
      ],
      "execution_count": 18,
      "outputs": []
    },
    {
      "cell_type": "code",
      "metadata": {
        "id": "SFlZ3IgwHqPh"
      },
      "source": [
        "#Second hidden layer\n",
        "ann.add(tf.keras.layers.Dense(units=7, activation='relu'))"
      ],
      "execution_count": 19,
      "outputs": []
    },
    {
      "cell_type": "code",
      "metadata": {
        "id": "KKuHbUtWRTNF"
      },
      "source": [
        "#Output layer\n",
        "ann.add(tf.keras.layers.Dense(units=1, activation='sigmoid'))"
      ],
      "execution_count": 20,
      "outputs": []
    },
    {
      "cell_type": "code",
      "metadata": {
        "id": "y9w3LzYGHqcQ"
      },
      "source": [
        "ann.compile(optimizer='sgd',loss='binary_crossentropy', metrics=['accuracy'])"
      ],
      "execution_count": 21,
      "outputs": []
    },
    {
      "cell_type": "code",
      "metadata": {
        "colab": {
          "base_uri": "https://localhost:8080/"
        },
        "id": "l3ZB9zrCHqmZ",
        "outputId": "f1f64805-3ea7-4763-c8c1-a007d7570b29"
      },
      "source": [
        "ann.fit(x_train, y_train, batch_size=32, epochs=100)"
      ],
      "execution_count": 22,
      "outputs": [
        {
          "output_type": "stream",
          "text": [
            "Epoch 1/100\n",
            "35/35 [==============================] - 1s 1ms/step - loss: 0.6626 - accuracy: 0.6427\n",
            "Epoch 2/100\n",
            "35/35 [==============================] - 0s 1ms/step - loss: 0.6245 - accuracy: 0.7384\n",
            "Epoch 3/100\n",
            "35/35 [==============================] - 0s 1ms/step - loss: 0.5886 - accuracy: 0.7201\n",
            "Epoch 4/100\n",
            "35/35 [==============================] - 0s 2ms/step - loss: 0.5528 - accuracy: 0.7420\n",
            "Epoch 5/100\n",
            "35/35 [==============================] - 0s 1ms/step - loss: 0.5172 - accuracy: 0.8013\n",
            "Epoch 6/100\n",
            "35/35 [==============================] - 0s 1ms/step - loss: 0.4827 - accuracy: 0.8459\n",
            "Epoch 7/100\n",
            "35/35 [==============================] - 0s 1ms/step - loss: 0.4497 - accuracy: 0.8979\n",
            "Epoch 8/100\n",
            "35/35 [==============================] - 0s 1ms/step - loss: 0.4187 - accuracy: 0.9234\n",
            "Epoch 9/100\n",
            "35/35 [==============================] - 0s 1ms/step - loss: 0.3902 - accuracy: 0.9407\n",
            "Epoch 10/100\n",
            "35/35 [==============================] - 0s 2ms/step - loss: 0.3637 - accuracy: 0.9480\n",
            "Epoch 11/100\n",
            "35/35 [==============================] - 0s 2ms/step - loss: 0.3394 - accuracy: 0.9553\n",
            "Epoch 12/100\n",
            "35/35 [==============================] - 0s 1ms/step - loss: 0.3170 - accuracy: 0.9590\n",
            "Epoch 13/100\n",
            "35/35 [==============================] - 0s 2ms/step - loss: 0.2957 - accuracy: 0.9644\n",
            "Epoch 14/100\n",
            "35/35 [==============================] - 0s 2ms/step - loss: 0.2756 - accuracy: 0.9663\n",
            "Epoch 15/100\n",
            "35/35 [==============================] - 0s 1ms/step - loss: 0.2566 - accuracy: 0.9690\n",
            "Epoch 16/100\n",
            "35/35 [==============================] - 0s 1ms/step - loss: 0.2389 - accuracy: 0.9708\n",
            "Epoch 17/100\n",
            "35/35 [==============================] - 0s 1ms/step - loss: 0.2226 - accuracy: 0.9736\n",
            "Epoch 18/100\n",
            "35/35 [==============================] - 0s 1ms/step - loss: 0.2073 - accuracy: 0.9754\n",
            "Epoch 19/100\n",
            "35/35 [==============================] - 0s 2ms/step - loss: 0.1930 - accuracy: 0.9763\n",
            "Epoch 20/100\n",
            "35/35 [==============================] - 0s 2ms/step - loss: 0.1798 - accuracy: 0.9790\n",
            "Epoch 21/100\n",
            "35/35 [==============================] - 0s 1ms/step - loss: 0.1678 - accuracy: 0.9799\n",
            "Epoch 22/100\n",
            "35/35 [==============================] - 0s 1ms/step - loss: 0.1566 - accuracy: 0.9799\n",
            "Epoch 23/100\n",
            "35/35 [==============================] - 0s 1ms/step - loss: 0.1463 - accuracy: 0.9799\n",
            "Epoch 24/100\n",
            "35/35 [==============================] - 0s 1ms/step - loss: 0.1369 - accuracy: 0.9799\n",
            "Epoch 25/100\n",
            "35/35 [==============================] - 0s 2ms/step - loss: 0.1284 - accuracy: 0.9809\n",
            "Epoch 26/100\n",
            "35/35 [==============================] - 0s 1ms/step - loss: 0.1207 - accuracy: 0.9809\n",
            "Epoch 27/100\n",
            "35/35 [==============================] - 0s 1ms/step - loss: 0.1137 - accuracy: 0.9809\n",
            "Epoch 28/100\n",
            "35/35 [==============================] - 0s 2ms/step - loss: 0.1072 - accuracy: 0.9818\n",
            "Epoch 29/100\n",
            "35/35 [==============================] - 0s 2ms/step - loss: 0.1014 - accuracy: 0.9818\n",
            "Epoch 30/100\n",
            "35/35 [==============================] - 0s 1ms/step - loss: 0.0962 - accuracy: 0.9818\n",
            "Epoch 31/100\n",
            "35/35 [==============================] - 0s 2ms/step - loss: 0.0914 - accuracy: 0.9845\n",
            "Epoch 32/100\n",
            "35/35 [==============================] - 0s 1ms/step - loss: 0.0870 - accuracy: 0.9845\n",
            "Epoch 33/100\n",
            "35/35 [==============================] - 0s 2ms/step - loss: 0.0829 - accuracy: 0.9845\n",
            "Epoch 34/100\n",
            "35/35 [==============================] - 0s 1ms/step - loss: 0.0792 - accuracy: 0.9845\n",
            "Epoch 35/100\n",
            "35/35 [==============================] - 0s 1ms/step - loss: 0.0758 - accuracy: 0.9845\n",
            "Epoch 36/100\n",
            "35/35 [==============================] - 0s 1ms/step - loss: 0.0727 - accuracy: 0.9854\n",
            "Epoch 37/100\n",
            "35/35 [==============================] - 0s 1ms/step - loss: 0.0699 - accuracy: 0.9863\n",
            "Epoch 38/100\n",
            "35/35 [==============================] - 0s 1ms/step - loss: 0.0672 - accuracy: 0.9863\n",
            "Epoch 39/100\n",
            "35/35 [==============================] - 0s 1ms/step - loss: 0.0647 - accuracy: 0.9863\n",
            "Epoch 40/100\n",
            "35/35 [==============================] - 0s 1ms/step - loss: 0.0624 - accuracy: 0.9863\n",
            "Epoch 41/100\n",
            "35/35 [==============================] - 0s 1ms/step - loss: 0.0603 - accuracy: 0.9863\n",
            "Epoch 42/100\n",
            "35/35 [==============================] - 0s 1ms/step - loss: 0.0583 - accuracy: 0.9863\n",
            "Epoch 43/100\n",
            "35/35 [==============================] - 0s 1ms/step - loss: 0.0565 - accuracy: 0.9863\n",
            "Epoch 44/100\n",
            "35/35 [==============================] - 0s 1ms/step - loss: 0.0547 - accuracy: 0.9863\n",
            "Epoch 45/100\n",
            "35/35 [==============================] - 0s 1ms/step - loss: 0.0531 - accuracy: 0.9863\n",
            "Epoch 46/100\n",
            "35/35 [==============================] - 0s 1ms/step - loss: 0.0516 - accuracy: 0.9863\n",
            "Epoch 47/100\n",
            "35/35 [==============================] - 0s 1ms/step - loss: 0.0502 - accuracy: 0.9863\n",
            "Epoch 48/100\n",
            "35/35 [==============================] - 0s 2ms/step - loss: 0.0489 - accuracy: 0.9863\n",
            "Epoch 49/100\n",
            "35/35 [==============================] - 0s 1ms/step - loss: 0.0476 - accuracy: 0.9863\n",
            "Epoch 50/100\n",
            "35/35 [==============================] - 0s 1ms/step - loss: 0.0464 - accuracy: 0.9863\n",
            "Epoch 51/100\n",
            "35/35 [==============================] - 0s 1ms/step - loss: 0.0452 - accuracy: 0.9863\n",
            "Epoch 52/100\n",
            "35/35 [==============================] - 0s 1ms/step - loss: 0.0442 - accuracy: 0.9863\n",
            "Epoch 53/100\n",
            "35/35 [==============================] - 0s 1ms/step - loss: 0.0432 - accuracy: 0.9863\n",
            "Epoch 54/100\n",
            "35/35 [==============================] - 0s 2ms/step - loss: 0.0422 - accuracy: 0.9863\n",
            "Epoch 55/100\n",
            "35/35 [==============================] - 0s 1ms/step - loss: 0.0413 - accuracy: 0.9863\n",
            "Epoch 56/100\n",
            "35/35 [==============================] - 0s 1ms/step - loss: 0.0403 - accuracy: 0.9863\n",
            "Epoch 57/100\n",
            "35/35 [==============================] - 0s 1ms/step - loss: 0.0395 - accuracy: 0.9863\n",
            "Epoch 58/100\n",
            "35/35 [==============================] - 0s 1ms/step - loss: 0.0387 - accuracy: 0.9863\n",
            "Epoch 59/100\n",
            "35/35 [==============================] - 0s 1ms/step - loss: 0.0379 - accuracy: 0.9863\n",
            "Epoch 60/100\n",
            "35/35 [==============================] - 0s 1ms/step - loss: 0.0371 - accuracy: 0.9863\n",
            "Epoch 61/100\n",
            "35/35 [==============================] - 0s 1ms/step - loss: 0.0364 - accuracy: 0.9863\n",
            "Epoch 62/100\n",
            "35/35 [==============================] - 0s 1ms/step - loss: 0.0357 - accuracy: 0.9900\n",
            "Epoch 63/100\n",
            "35/35 [==============================] - 0s 2ms/step - loss: 0.0350 - accuracy: 0.9900\n",
            "Epoch 64/100\n",
            "35/35 [==============================] - 0s 1ms/step - loss: 0.0344 - accuracy: 0.9900\n",
            "Epoch 65/100\n",
            "35/35 [==============================] - 0s 1ms/step - loss: 0.0338 - accuracy: 0.9900\n",
            "Epoch 66/100\n",
            "35/35 [==============================] - 0s 1ms/step - loss: 0.0332 - accuracy: 0.9900\n",
            "Epoch 67/100\n",
            "35/35 [==============================] - 0s 1ms/step - loss: 0.0326 - accuracy: 0.9900\n",
            "Epoch 68/100\n",
            "35/35 [==============================] - 0s 1ms/step - loss: 0.0320 - accuracy: 0.9900\n",
            "Epoch 69/100\n",
            "35/35 [==============================] - 0s 1ms/step - loss: 0.0314 - accuracy: 0.9900\n",
            "Epoch 70/100\n",
            "35/35 [==============================] - 0s 1ms/step - loss: 0.0309 - accuracy: 0.9900\n",
            "Epoch 71/100\n",
            "35/35 [==============================] - 0s 1ms/step - loss: 0.0304 - accuracy: 0.9900\n",
            "Epoch 72/100\n",
            "35/35 [==============================] - 0s 1ms/step - loss: 0.0299 - accuracy: 0.9918\n",
            "Epoch 73/100\n",
            "35/35 [==============================] - 0s 2ms/step - loss: 0.0294 - accuracy: 0.9936\n",
            "Epoch 74/100\n",
            "35/35 [==============================] - 0s 2ms/step - loss: 0.0289 - accuracy: 0.9900\n",
            "Epoch 75/100\n",
            "35/35 [==============================] - 0s 1ms/step - loss: 0.0285 - accuracy: 0.9936\n",
            "Epoch 76/100\n",
            "35/35 [==============================] - 0s 1ms/step - loss: 0.0280 - accuracy: 0.9936\n",
            "Epoch 77/100\n",
            "35/35 [==============================] - 0s 1ms/step - loss: 0.0276 - accuracy: 0.9936\n",
            "Epoch 78/100\n",
            "35/35 [==============================] - 0s 1ms/step - loss: 0.0272 - accuracy: 0.9918\n",
            "Epoch 79/100\n",
            "35/35 [==============================] - 0s 1ms/step - loss: 0.0268 - accuracy: 0.9936\n",
            "Epoch 80/100\n",
            "35/35 [==============================] - 0s 1ms/step - loss: 0.0264 - accuracy: 0.9936\n",
            "Epoch 81/100\n",
            "35/35 [==============================] - 0s 2ms/step - loss: 0.0260 - accuracy: 0.9945\n",
            "Epoch 82/100\n",
            "35/35 [==============================] - 0s 1ms/step - loss: 0.0256 - accuracy: 0.9936\n",
            "Epoch 83/100\n",
            "35/35 [==============================] - 0s 2ms/step - loss: 0.0252 - accuracy: 0.9945\n",
            "Epoch 84/100\n",
            "35/35 [==============================] - 0s 1ms/step - loss: 0.0248 - accuracy: 0.9964\n",
            "Epoch 85/100\n",
            "35/35 [==============================] - 0s 1ms/step - loss: 0.0245 - accuracy: 0.9964\n",
            "Epoch 86/100\n",
            "35/35 [==============================] - 0s 1ms/step - loss: 0.0241 - accuracy: 0.9964\n",
            "Epoch 87/100\n",
            "35/35 [==============================] - 0s 1ms/step - loss: 0.0238 - accuracy: 0.9991\n",
            "Epoch 88/100\n",
            "35/35 [==============================] - 0s 1ms/step - loss: 0.0234 - accuracy: 1.0000\n",
            "Epoch 89/100\n",
            "35/35 [==============================] - 0s 1ms/step - loss: 0.0231 - accuracy: 1.0000\n",
            "Epoch 90/100\n",
            "35/35 [==============================] - 0s 1ms/step - loss: 0.0228 - accuracy: 1.0000\n",
            "Epoch 91/100\n",
            "35/35 [==============================] - 0s 1ms/step - loss: 0.0225 - accuracy: 1.0000\n",
            "Epoch 92/100\n",
            "35/35 [==============================] - 0s 2ms/step - loss: 0.0222 - accuracy: 1.0000\n",
            "Epoch 93/100\n",
            "35/35 [==============================] - 0s 1ms/step - loss: 0.0219 - accuracy: 1.0000\n",
            "Epoch 94/100\n",
            "35/35 [==============================] - 0s 1ms/step - loss: 0.0216 - accuracy: 1.0000\n",
            "Epoch 95/100\n",
            "35/35 [==============================] - 0s 1ms/step - loss: 0.0213 - accuracy: 1.0000\n",
            "Epoch 96/100\n",
            "35/35 [==============================] - 0s 1ms/step - loss: 0.0210 - accuracy: 1.0000\n",
            "Epoch 97/100\n",
            "35/35 [==============================] - 0s 2ms/step - loss: 0.0207 - accuracy: 1.0000\n",
            "Epoch 98/100\n",
            "35/35 [==============================] - 0s 2ms/step - loss: 0.0204 - accuracy: 1.0000\n",
            "Epoch 99/100\n",
            "35/35 [==============================] - 0s 1ms/step - loss: 0.0202 - accuracy: 1.0000\n",
            "Epoch 100/100\n",
            "35/35 [==============================] - 0s 1ms/step - loss: 0.0199 - accuracy: 1.0000\n"
          ],
          "name": "stdout"
        },
        {
          "output_type": "execute_result",
          "data": {
            "text/plain": [
              "<tensorflow.python.keras.callbacks.History at 0x7fe6259309d0>"
            ]
          },
          "metadata": {
            "tags": []
          },
          "execution_count": 22
        }
      ]
    },
    {
      "cell_type": "markdown",
      "metadata": {
        "id": "Z2NEPIFriulb"
      },
      "source": [
        "#Calculating Accuracy"
      ]
    },
    {
      "cell_type": "code",
      "metadata": {
        "id": "_umbj-TXSrw-"
      },
      "source": [
        "from sklearn.metrics import accuracy_score"
      ],
      "execution_count": 23,
      "outputs": []
    },
    {
      "cell_type": "code",
      "metadata": {
        "colab": {
          "base_uri": "https://localhost:8080/"
        },
        "id": "zdxCZJH6Hqw4",
        "outputId": "83f23f86-e9db-4529-8f13-904c87badc25"
      },
      "source": [
        "# predict test set\n",
        "yhat = ann.predict_classes(x_test)\n",
        "# evaluate predictions\n",
        "score = accuracy_score(y_test, yhat)\n",
        "print('Accuracy: %.3f' % score)"
      ],
      "execution_count": 24,
      "outputs": [
        {
          "output_type": "stream",
          "text": [
            "Accuracy: 1.000\n"
          ],
          "name": "stdout"
        },
        {
          "output_type": "stream",
          "text": [
            "/usr/local/lib/python3.7/dist-packages/tensorflow/python/keras/engine/sequential.py:455: UserWarning: `model.predict_classes()` is deprecated and will be removed after 2021-01-01. Please use instead:* `np.argmax(model.predict(x), axis=-1)`,   if your model does multi-class classification   (e.g. if it uses a `softmax` last-layer activation).* `(model.predict(x) > 0.5).astype(\"int32\")`,   if your model does binary classification   (e.g. if it uses a `sigmoid` last-layer activation).\n",
            "  warnings.warn('`model.predict_classes()` is deprecated and '\n"
          ],
          "name": "stderr"
        }
      ]
    },
    {
      "cell_type": "markdown",
      "metadata": {
        "id": "10RvUEPNjBoM"
      },
      "source": [
        "# Prediction"
      ]
    },
    {
      "cell_type": "markdown",
      "metadata": {
        "id": "K8c-VUiET0zZ"
      },
      "source": [
        ""
      ]
    },
    {
      "cell_type": "code",
      "metadata": {
        "colab": {
          "base_uri": "https://localhost:8080/"
        },
        "id": "o8xpmeymHq8l",
        "outputId": "e3c9e171-3fa2-4ca1-d78b-93b8ed53bce7"
      },
      "source": [
        "print(ann.predict(sc.transform([[3.6,8.6,-0.3,-0.8]])))"
      ],
      "execution_count": 25,
      "outputs": [
        {
          "output_type": "stream",
          "text": [
            "[[2.3289417e-06]]\n"
          ],
          "name": "stdout"
        }
      ]
    },
    {
      "cell_type": "code",
      "metadata": {
        "colab": {
          "base_uri": "https://localhost:8080/"
        },
        "id": "vCVzYFP5HrGb",
        "outputId": "a7bfb74e-4f94-4e58-ed52-d8191eee72d7"
      },
      "source": [
        "print(ann.predict(sc.transform(x_test)))"
      ],
      "execution_count": 26,
      "outputs": [
        {
          "output_type": "stream",
          "text": [
            "[[0.97949135]\n",
            " [0.5253929 ]\n",
            " [0.98703325]\n",
            " [0.7920063 ]\n",
            " [0.5275302 ]\n",
            " [0.3901772 ]\n",
            " [0.836439  ]\n",
            " [0.74990165]\n",
            " [0.9858305 ]\n",
            " [0.98814756]\n",
            " [0.85017896]\n",
            " [0.2880323 ]\n",
            " [0.9863256 ]\n",
            " [0.2789911 ]\n",
            " [0.5151809 ]\n",
            " [0.63280034]\n",
            " [0.9899161 ]\n",
            " [0.98461455]\n",
            " [0.6621151 ]\n",
            " [0.5899242 ]\n",
            " [0.98278725]\n",
            " [0.71864486]\n",
            " [0.32768887]\n",
            " [0.98703647]\n",
            " [0.9857999 ]\n",
            " [0.9847996 ]\n",
            " [0.556738  ]\n",
            " [0.9875798 ]\n",
            " [0.65889955]\n",
            " [0.9244006 ]\n",
            " [0.98672986]\n",
            " [0.92228425]\n",
            " [0.98565686]\n",
            " [0.9869045 ]\n",
            " [0.98861504]\n",
            " [0.7980915 ]\n",
            " [0.6958896 ]\n",
            " [0.9895767 ]\n",
            " [0.94487655]\n",
            " [0.98007226]\n",
            " [0.9638568 ]\n",
            " [0.99030864]\n",
            " [0.7102028 ]\n",
            " [0.9623966 ]\n",
            " [0.98713356]\n",
            " [0.98227584]\n",
            " [0.44349357]\n",
            " [0.66395533]\n",
            " [0.986853  ]\n",
            " [0.828592  ]\n",
            " [0.71237355]\n",
            " [0.9943979 ]\n",
            " [0.94468457]\n",
            " [0.9885372 ]\n",
            " [0.9863438 ]\n",
            " [0.56800985]\n",
            " [0.98660886]\n",
            " [0.9849862 ]\n",
            " [0.9203033 ]\n",
            " [0.9889133 ]\n",
            " [0.98493373]\n",
            " [0.87627363]\n",
            " [0.46398017]\n",
            " [0.3288741 ]\n",
            " [0.73128676]\n",
            " [0.98951757]\n",
            " [0.98143506]\n",
            " [0.98354757]\n",
            " [0.9806675 ]\n",
            " [0.6988707 ]\n",
            " [0.9830485 ]\n",
            " [0.38983542]\n",
            " [0.9913317 ]\n",
            " [0.9452789 ]\n",
            " [0.97858   ]\n",
            " [0.9880278 ]\n",
            " [0.42893177]\n",
            " [0.5438962 ]\n",
            " [0.718757  ]\n",
            " [0.5047354 ]\n",
            " [0.98496497]\n",
            " [0.9808037 ]\n",
            " [0.5610792 ]\n",
            " [0.47672173]\n",
            " [0.98559237]\n",
            " [0.98595214]\n",
            " [0.38997966]\n",
            " [0.7029513 ]\n",
            " [0.32842118]\n",
            " [0.6910779 ]\n",
            " [0.71505183]\n",
            " [0.9887396 ]\n",
            " [0.98773646]\n",
            " [0.98502743]\n",
            " [0.98484284]\n",
            " [0.9205872 ]\n",
            " [0.45758528]\n",
            " [0.70731616]\n",
            " [0.9849479 ]\n",
            " [0.99104357]\n",
            " [0.46334118]\n",
            " [0.9782602 ]\n",
            " [0.5655466 ]\n",
            " [0.95585775]\n",
            " [0.79569006]\n",
            " [0.98636377]\n",
            " [0.62898445]\n",
            " [0.9872879 ]\n",
            " [0.9835758 ]\n",
            " [0.98947096]\n",
            " [0.81622106]\n",
            " [0.9889983 ]\n",
            " [0.6725342 ]\n",
            " [0.9101331 ]\n",
            " [0.986361  ]\n",
            " [0.85529864]\n",
            " [0.86754894]\n",
            " [0.654798  ]\n",
            " [0.98559713]\n",
            " [0.98703253]\n",
            " [0.5527734 ]\n",
            " [0.22804406]\n",
            " [0.981869  ]\n",
            " [0.9901479 ]\n",
            " [0.98192596]\n",
            " [0.9865538 ]\n",
            " [0.983701  ]\n",
            " [0.8265034 ]\n",
            " [0.98480475]\n",
            " [0.5255703 ]\n",
            " [0.8583796 ]\n",
            " [0.75501716]\n",
            " [0.21939763]\n",
            " [0.97858   ]\n",
            " [0.88487893]\n",
            " [0.98582053]\n",
            " [0.8573614 ]\n",
            " [0.33660263]\n",
            " [0.53135693]\n",
            " [0.9342689 ]\n",
            " [0.9860144 ]\n",
            " [0.39994243]\n",
            " [0.98669684]\n",
            " [0.98658514]\n",
            " [0.8445527 ]\n",
            " [0.53451425]\n",
            " [0.9722343 ]\n",
            " [0.7886572 ]\n",
            " [0.32367426]\n",
            " [0.9904734 ]\n",
            " [0.94507015]\n",
            " [0.90933967]\n",
            " [0.543904  ]\n",
            " [0.81322336]\n",
            " [0.9911453 ]\n",
            " [0.70224583]\n",
            " [0.98349845]\n",
            " [0.6390238 ]\n",
            " [0.9875645 ]\n",
            " [0.95059144]\n",
            " [0.7187763 ]\n",
            " [0.9881842 ]\n",
            " [0.9368897 ]\n",
            " [0.98371553]\n",
            " [0.9189899 ]\n",
            " [0.9870212 ]\n",
            " [0.99029493]\n",
            " [0.6907214 ]\n",
            " [0.98510444]\n",
            " [0.9865287 ]\n",
            " [0.694188  ]\n",
            " [0.9877136 ]\n",
            " [0.9907236 ]\n",
            " [0.9794742 ]\n",
            " [0.9930103 ]\n",
            " [0.6837578 ]\n",
            " [0.84691447]\n",
            " [0.60502183]\n",
            " [0.99198353]\n",
            " [0.982074  ]\n",
            " [0.88685375]\n",
            " [0.9861305 ]\n",
            " [0.94116074]\n",
            " [0.9268542 ]\n",
            " [0.89559007]\n",
            " [0.9896411 ]\n",
            " [0.4864972 ]\n",
            " [0.9861393 ]\n",
            " [0.98906356]\n",
            " [0.9705595 ]\n",
            " [0.97857976]\n",
            " [0.78366596]\n",
            " [0.98356146]\n",
            " [0.70820737]\n",
            " [0.9859071 ]\n",
            " [0.55444986]\n",
            " [0.5553654 ]\n",
            " [0.7711346 ]\n",
            " [0.982576  ]\n",
            " [0.9788456 ]\n",
            " [0.90412855]\n",
            " [0.8355845 ]\n",
            " [0.21608168]\n",
            " [0.39866364]\n",
            " [0.46673942]\n",
            " [0.9545654 ]\n",
            " [0.52443   ]\n",
            " [0.8472339 ]\n",
            " [0.9836395 ]\n",
            " [0.74139965]\n",
            " [0.35518813]\n",
            " [0.9798173 ]\n",
            " [0.6253645 ]\n",
            " [0.7668141 ]\n",
            " [0.20618606]\n",
            " [0.98723817]\n",
            " [0.98245215]\n",
            " [0.5370635 ]\n",
            " [0.6561544 ]\n",
            " [0.74816024]\n",
            " [0.66598487]\n",
            " [0.8344498 ]\n",
            " [0.799187  ]\n",
            " [0.63924813]\n",
            " [0.7150013 ]\n",
            " [0.9873948 ]\n",
            " [0.97983086]\n",
            " [0.5923051 ]\n",
            " [0.94112384]\n",
            " [0.8369615 ]\n",
            " [0.7842917 ]\n",
            " [0.9869395 ]\n",
            " [0.9841621 ]\n",
            " [0.7656364 ]\n",
            " [0.9878427 ]\n",
            " [0.9850906 ]\n",
            " [0.80038416]\n",
            " [0.97483045]\n",
            " [0.96962714]\n",
            " [0.9906766 ]\n",
            " [0.7417879 ]\n",
            " [0.98811775]\n",
            " [0.9890213 ]\n",
            " [0.6598811 ]\n",
            " [0.98476994]\n",
            " [0.401155  ]\n",
            " [0.23295045]\n",
            " [0.8880991 ]\n",
            " [0.8120171 ]\n",
            " [0.7628375 ]\n",
            " [0.90031654]\n",
            " [0.985327  ]\n",
            " [0.9336486 ]\n",
            " [0.98813355]\n",
            " [0.9868971 ]\n",
            " [0.94279325]\n",
            " [0.91697663]\n",
            " [0.98096395]\n",
            " [0.98725295]\n",
            " [0.97776604]\n",
            " [0.64259744]\n",
            " [0.82226044]\n",
            " [0.62778604]\n",
            " [0.98882973]\n",
            " [0.49642113]\n",
            " [0.5876672 ]\n",
            " [0.98626107]\n",
            " [0.9843923 ]\n",
            " [0.6079685 ]\n",
            " [0.98462486]\n",
            " [0.9871489 ]\n",
            " [0.8729743 ]\n",
            " [0.9881117 ]\n",
            " [0.9826535 ]\n",
            " [0.9888842 ]]\n"
          ],
          "name": "stdout"
        }
      ]
    },
    {
      "cell_type": "code",
      "metadata": {
        "colab": {
          "base_uri": "https://localhost:8080/"
        },
        "id": "36ySYK_HUUkA",
        "outputId": "9cce1df7-a1a8-4bd9-8066-4668c6457500"
      },
      "source": [
        "y_pred = ann.predict(x_test)\n",
        "y_pred = (y_pred > 0.5)\n",
        "print(np.concatenate((y_pred.reshape(len(y_pred),1), y_test.reshape(len(y_test),1)),1))"
      ],
      "execution_count": 27,
      "outputs": [
        {
          "output_type": "stream",
          "text": [
            "[[1. 1.]\n",
            " [0. 0.]\n",
            " [1. 1.]\n",
            " [0. 0.]\n",
            " [0. 0.]\n",
            " [0. 0.]\n",
            " [0. 0.]\n",
            " [0. 0.]\n",
            " [1. 1.]\n",
            " [1. 1.]\n",
            " [0. 0.]\n",
            " [0. 0.]\n",
            " [1. 1.]\n",
            " [0. 0.]\n",
            " [0. 0.]\n",
            " [0. 0.]\n",
            " [1. 1.]\n",
            " [1. 1.]\n",
            " [0. 0.]\n",
            " [0. 0.]\n",
            " [1. 1.]\n",
            " [0. 0.]\n",
            " [0. 0.]\n",
            " [1. 1.]\n",
            " [0. 0.]\n",
            " [1. 1.]\n",
            " [0. 0.]\n",
            " [1. 1.]\n",
            " [0. 0.]\n",
            " [0. 0.]\n",
            " [1. 1.]\n",
            " [0. 0.]\n",
            " [1. 1.]\n",
            " [1. 1.]\n",
            " [1. 1.]\n",
            " [0. 0.]\n",
            " [0. 0.]\n",
            " [1. 1.]\n",
            " [0. 0.]\n",
            " [1. 1.]\n",
            " [0. 0.]\n",
            " [1. 1.]\n",
            " [0. 0.]\n",
            " [0. 0.]\n",
            " [1. 1.]\n",
            " [1. 1.]\n",
            " [0. 0.]\n",
            " [0. 0.]\n",
            " [1. 1.]\n",
            " [0. 0.]\n",
            " [0. 0.]\n",
            " [1. 1.]\n",
            " [0. 0.]\n",
            " [1. 1.]\n",
            " [1. 1.]\n",
            " [0. 0.]\n",
            " [1. 1.]\n",
            " [1. 1.]\n",
            " [0. 0.]\n",
            " [1. 1.]\n",
            " [1. 1.]\n",
            " [0. 0.]\n",
            " [0. 0.]\n",
            " [0. 0.]\n",
            " [0. 0.]\n",
            " [1. 1.]\n",
            " [1. 1.]\n",
            " [1. 1.]\n",
            " [1. 1.]\n",
            " [0. 0.]\n",
            " [1. 1.]\n",
            " [0. 0.]\n",
            " [1. 1.]\n",
            " [0. 0.]\n",
            " [0. 0.]\n",
            " [1. 1.]\n",
            " [0. 0.]\n",
            " [0. 0.]\n",
            " [0. 0.]\n",
            " [0. 0.]\n",
            " [1. 1.]\n",
            " [1. 1.]\n",
            " [0. 0.]\n",
            " [0. 0.]\n",
            " [1. 1.]\n",
            " [1. 1.]\n",
            " [0. 0.]\n",
            " [0. 0.]\n",
            " [0. 0.]\n",
            " [0. 0.]\n",
            " [0. 0.]\n",
            " [1. 1.]\n",
            " [1. 1.]\n",
            " [1. 1.]\n",
            " [1. 1.]\n",
            " [0. 0.]\n",
            " [0. 0.]\n",
            " [0. 0.]\n",
            " [1. 1.]\n",
            " [1. 1.]\n",
            " [0. 0.]\n",
            " [1. 1.]\n",
            " [0. 0.]\n",
            " [0. 0.]\n",
            " [0. 0.]\n",
            " [1. 1.]\n",
            " [0. 0.]\n",
            " [1. 1.]\n",
            " [1. 1.]\n",
            " [1. 1.]\n",
            " [0. 0.]\n",
            " [1. 1.]\n",
            " [0. 0.]\n",
            " [0. 0.]\n",
            " [1. 1.]\n",
            " [0. 0.]\n",
            " [0. 0.]\n",
            " [0. 0.]\n",
            " [1. 1.]\n",
            " [1. 1.]\n",
            " [0. 0.]\n",
            " [0. 0.]\n",
            " [1. 1.]\n",
            " [1. 1.]\n",
            " [1. 1.]\n",
            " [1. 1.]\n",
            " [1. 1.]\n",
            " [0. 0.]\n",
            " [1. 1.]\n",
            " [0. 0.]\n",
            " [0. 0.]\n",
            " [0. 0.]\n",
            " [0. 0.]\n",
            " [0. 0.]\n",
            " [0. 0.]\n",
            " [1. 1.]\n",
            " [0. 0.]\n",
            " [0. 0.]\n",
            " [0. 0.]\n",
            " [0. 0.]\n",
            " [1. 1.]\n",
            " [0. 0.]\n",
            " [1. 1.]\n",
            " [1. 1.]\n",
            " [0. 0.]\n",
            " [0. 0.]\n",
            " [1. 1.]\n",
            " [0. 0.]\n",
            " [0. 0.]\n",
            " [1. 1.]\n",
            " [0. 0.]\n",
            " [0. 0.]\n",
            " [0. 0.]\n",
            " [0. 0.]\n",
            " [1. 1.]\n",
            " [0. 0.]\n",
            " [1. 1.]\n",
            " [0. 0.]\n",
            " [1. 1.]\n",
            " [0. 0.]\n",
            " [0. 0.]\n",
            " [1. 1.]\n",
            " [0. 0.]\n",
            " [1. 1.]\n",
            " [0. 0.]\n",
            " [1. 1.]\n",
            " [1. 1.]\n",
            " [0. 0.]\n",
            " [1. 1.]\n",
            " [1. 1.]\n",
            " [0. 0.]\n",
            " [1. 1.]\n",
            " [1. 1.]\n",
            " [1. 1.]\n",
            " [1. 1.]\n",
            " [0. 0.]\n",
            " [0. 0.]\n",
            " [0. 0.]\n",
            " [1. 1.]\n",
            " [1. 1.]\n",
            " [0. 0.]\n",
            " [1. 1.]\n",
            " [0. 0.]\n",
            " [0. 0.]\n",
            " [0. 0.]\n",
            " [1. 1.]\n",
            " [0. 0.]\n",
            " [1. 1.]\n",
            " [1. 1.]\n",
            " [0. 0.]\n",
            " [0. 0.]\n",
            " [0. 0.]\n",
            " [1. 1.]\n",
            " [0. 0.]\n",
            " [1. 1.]\n",
            " [0. 0.]\n",
            " [0. 0.]\n",
            " [0. 0.]\n",
            " [1. 1.]\n",
            " [1. 1.]\n",
            " [0. 0.]\n",
            " [0. 0.]\n",
            " [0. 0.]\n",
            " [0. 0.]\n",
            " [0. 0.]\n",
            " [0. 0.]\n",
            " [0. 0.]\n",
            " [0. 0.]\n",
            " [1. 1.]\n",
            " [0. 0.]\n",
            " [0. 0.]\n",
            " [1. 1.]\n",
            " [0. 0.]\n",
            " [0. 0.]\n",
            " [0. 0.]\n",
            " [1. 1.]\n",
            " [1. 1.]\n",
            " [0. 0.]\n",
            " [0. 0.]\n",
            " [0. 0.]\n",
            " [0. 0.]\n",
            " [0. 0.]\n",
            " [0. 0.]\n",
            " [0. 0.]\n",
            " [0. 0.]\n",
            " [1. 1.]\n",
            " [1. 1.]\n",
            " [0. 0.]\n",
            " [0. 0.]\n",
            " [0. 0.]\n",
            " [0. 0.]\n",
            " [1. 1.]\n",
            " [1. 1.]\n",
            " [0. 0.]\n",
            " [1. 1.]\n",
            " [1. 1.]\n",
            " [0. 0.]\n",
            " [0. 0.]\n",
            " [1. 1.]\n",
            " [1. 1.]\n",
            " [0. 0.]\n",
            " [1. 1.]\n",
            " [1. 1.]\n",
            " [0. 0.]\n",
            " [1. 1.]\n",
            " [0. 0.]\n",
            " [0. 0.]\n",
            " [0. 0.]\n",
            " [0. 0.]\n",
            " [0. 0.]\n",
            " [0. 0.]\n",
            " [1. 1.]\n",
            " [0. 0.]\n",
            " [1. 1.]\n",
            " [1. 1.]\n",
            " [0. 0.]\n",
            " [0. 0.]\n",
            " [1. 1.]\n",
            " [1. 1.]\n",
            " [1. 1.]\n",
            " [0. 0.]\n",
            " [0. 0.]\n",
            " [0. 0.]\n",
            " [1. 1.]\n",
            " [0. 0.]\n",
            " [0. 0.]\n",
            " [1. 1.]\n",
            " [1. 1.]\n",
            " [0. 0.]\n",
            " [1. 1.]\n",
            " [1. 1.]\n",
            " [0. 0.]\n",
            " [1. 1.]\n",
            " [1. 1.]\n",
            " [1. 1.]]\n"
          ],
          "name": "stdout"
        }
      ]
    },
    {
      "cell_type": "code",
      "metadata": {
        "colab": {
          "base_uri": "https://localhost:8080/"
        },
        "id": "prAUrmOkHrS_",
        "outputId": "7bf6cad2-39a9-42b1-daad-1d2b7c320ee3"
      },
      "source": [
        "from sklearn.metrics import confusion_matrix, accuracy_score,classification_report\n",
        "cm = confusion_matrix(y_test, y_pred)\n",
        "print(cm)\n",
        "accuracy_score(y_test, y_pred)\n"
      ],
      "execution_count": 29,
      "outputs": [
        {
          "output_type": "stream",
          "text": [
            "[[157   0]\n",
            " [  0 118]]\n"
          ],
          "name": "stdout"
        },
        {
          "output_type": "execute_result",
          "data": {
            "text/plain": [
              "1.0"
            ]
          },
          "metadata": {
            "tags": []
          },
          "execution_count": 29
        }
      ]
    },
    {
      "cell_type": "code",
      "metadata": {
        "colab": {
          "base_uri": "https://localhost:8080/",
          "height": 69
        },
        "id": "wUysfT2QjSTD",
        "outputId": "f23660b2-d952-4692-9ce5-35ea4ae4bba7"
      },
      "source": [
        "classification_report(y_test,y_pred)"
      ],
      "execution_count": 30,
      "outputs": [
        {
          "output_type": "execute_result",
          "data": {
            "application/vnd.google.colaboratory.intrinsic+json": {
              "type": "string"
            },
            "text/plain": [
              "'              precision    recall  f1-score   support\\n\\n         0.0       1.00      1.00      1.00       157\\n         1.0       1.00      1.00      1.00       118\\n\\n    accuracy                           1.00       275\\n   macro avg       1.00      1.00      1.00       275\\nweighted avg       1.00      1.00      1.00       275\\n'"
            ]
          },
          "metadata": {
            "tags": []
          },
          "execution_count": 30
        }
      ]
    },
    {
      "cell_type": "markdown",
      "metadata": {
        "id": "ml0J46Glh9ko"
      },
      "source": [
        ""
      ]
    }
  ]
}